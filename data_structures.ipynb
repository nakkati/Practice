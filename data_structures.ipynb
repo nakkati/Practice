{
 "cells": [
  {
   "cell_type": "code",
   "execution_count": 5,
   "metadata": {},
   "outputs": [
    {
     "name": "stdout",
     "output_type": "stream",
     "text": [
      "1\n",
      "b\n",
      "3\n"
     ]
    }
   ],
   "source": [
    "# array/list\n",
    "\n",
    "test_list = [1, 'b', 3]\n",
    "for i in test_list:\n",
    "    print(i)\n",
    "\n",
    "test_list.append(0)\n",
    "\n",
    "# Unordered/unsorted stream of numbers - space is o(n), insert is o(1), search/delete is o(n)\n",
    "# sorted - space o(n), insert o(n), delete/search o(n) even with binary search in worst case  but o(log n) on average"
   ]
  },
  {
   "cell_type": "code",
   "execution_count": 20,
   "metadata": {},
   "outputs": [],
   "source": [
    "# linked list\n",
    "\n",
    "class Linklist():\n",
    "    def __init__(self):\n",
    "        self.value = None\n",
    "        self.next = None\n",
    "\n",
    "ll_1 = Linklist()\n",
    "ll_1.value = 1\n",
    "ll_2 = Linklist()\n",
    "ll_1.next = ll_2\n"
   ]
  },
  {
   "cell_type": "code",
   "execution_count": 21,
   "metadata": {},
   "outputs": [],
   "source": [
    "# stacks\n",
    "\n",
    "# No stack library but can create custom class, use list as a stack or use deque container"
   ]
  },
  {
   "cell_type": "code",
   "execution_count": null,
   "metadata": {},
   "outputs": [
    {
     "name": "stdout",
     "output_type": "stream",
     "text": [
      "1\n"
     ]
    }
   ],
   "source": [
    "# queues\n",
    "\"\"\"\n",
    "[-------] FIFO\n",
    "use dequeue from collections or queue from queue\n",
    "\"\"\"\n",
    "\n",
    "from queue import Queue\n",
    "\n",
    "q = Queue()\n",
    "q.put(1)\n",
    "q.put(2)\n",
    "q.put(3)\n",
    "\n",
    "print(q.get())\n",
    "\n",
    "\"\"\" \n",
    "stack & queue:\n",
    "    insert: o(1)\n",
    "    delete: o(1)\n",
    "    search: o(n)\n",
    "    pop: o(1)\n",
    "\n",
    "\"\"\""
   ]
  },
  {
   "cell_type": "code",
   "execution_count": 26,
   "metadata": {},
   "outputs": [],
   "source": [
    "# priority queue, heap\n",
    "\"\"\"\n",
    "priority queue is a abstract data type - What can you do? not how to implement it\n",
    "heap is a concrete data structure\n",
    "heapqueue, tuple or priority queue from queue library\n",
    "indexing: \n",
    "    parent = i\n",
    "    lc = 2*i+1\n",
    "    rc = 2*i+1\n",
    "\"\"\"\n",
    "import heapq\n",
    "\n",
    "min_heap = []\n",
    "heapq.heappush(min_heap, 9)\n"
   ]
  },
  {
   "cell_type": "code",
   "execution_count": null,
   "metadata": {},
   "outputs": [
    {
     "name": "stdout",
     "output_type": "stream",
     "text": [
      "420\n"
     ]
    }
   ],
   "source": [
    "# hashset/hashmap/hashtable/dictionary\n",
    "\n",
    "# set or hashset is unique unordered items backed by a hash table, does not have keys\n",
    "# o(1) insert/delete/search on average or o(n) when there are collisions\n",
    "test_set = set()\n",
    "test_set.add(10)\n",
    "\n",
    "# hashmap has a key - value pair and is the data structure behind dictionaries in python\n",
    "\n",
    "test_hashmap = {}\n",
    "test_hashmap[\"apple\"] = 420\n",
    "print(test_hashmap[\"apple\"])\n",
    "\n",
    "# hashtable is similar but is thread safe where operations are synchronized. No euivalent is python but can be simulated by defaultdict with locking code\n"
   ]
  },
  {
   "cell_type": "code",
   "execution_count": null,
   "metadata": {},
   "outputs": [],
   "source": [
    "# tuple, immutable, ordered, useful to return pair of values from functions etc. \n",
    "\n",
    "test_tuple = (10, 20 ,30)"
   ]
  },
  {
   "cell_type": "code",
   "execution_count": 28,
   "metadata": {},
   "outputs": [],
   "source": [
    "# trees, there are few 3rd party libraies, time complexity to insert, search and delete on average is o(log n), worst case being o(n)"
   ]
  },
  {
   "cell_type": "code",
   "execution_count": 40,
   "metadata": {},
   "outputs": [
    {
     "name": "stdout",
     "output_type": "stream",
     "text": [
      "3\n",
      "deque([0, 1, 2, 3, 4])\n",
      "Counter({'d': 3, 'a': 2, 'b': 2, 'c': 2})\n",
      "1\n",
      "[25]\n"
     ]
    }
   ],
   "source": [
    "\"\"\"\n",
    "collections module:\n",
    "    deque\n",
    "    defaultdict\n",
    "    namedtuple()\n",
    "    OrderedDict\n",
    "    Counter\n",
    "    ChainMap\n",
    "\n",
    "    classes - UserDict, UserList and UserString\n",
    "\"\"\"\n",
    "\n",
    "from collections import namedtuple\n",
    "\n",
    "point = namedtuple('point',['x','y'])\n",
    "p = point(1, 2)\n",
    "print(p.x + p.y)\n",
    "\n",
    "from collections import deque\n",
    "dq = deque([1, 2, 3])\n",
    "dq.appendleft(0)\n",
    "dq.append(4)\n",
    "print(dq)\n",
    "\n",
    "from collections import Counter\n",
    "c = Counter(\"aabbccddd\")\n",
    "print(c)\n",
    "\n",
    "# ordered dict is not needed as regular dict keeps track of insertion order post python version 3.7\n",
    "\n",
    "# default dict, returns default value when no key is found instead of an error\n",
    "\n",
    "from collections import defaultdict\n",
    "\n",
    "d = defaultdict(int) # we can use list as well to get nice ordered list, but here if key is missing it will add the key and default count as 0\n",
    "\n",
    "from collections import ChainMap\n",
    "a_d = {'a':1, 'b':3}\n",
    "b_d = {'a':4, 'c':3}\n",
    "\n",
    "c_d = ChainMap(a_d, b_d) # order is the priority to solve conflicts\n",
    "\n",
    "print(c_d['a'])\n",
    "\n",
    "square = lambda x: [x**2]\n",
    "result = square(5)\n",
    "print(result)\n",
    "\n"
   ]
  },
  {
   "cell_type": "code",
   "execution_count": null,
   "metadata": {},
   "outputs": [
    {
     "data": {
      "text/plain": [
       "'\\nGraph data structures\\nSet data structures\\nBloom filters\\n'"
      ]
     },
     "execution_count": 19,
     "metadata": {},
     "output_type": "execute_result"
    }
   ],
   "source": [
    "\"\"\"\n",
    "Graph data structures\n",
    "Set data structures\n",
    "Bloom filters\n",
    "skip lists\n",
    "\"\"\""
   ]
  },
  {
   "cell_type": "code",
   "execution_count": 41,
   "metadata": {},
   "outputs": [
    {
     "name": "stdout",
     "output_type": "stream",
     "text": [
      "0\n",
      "1\n",
      "1\n",
      "2\n",
      "3\n",
      "5\n",
      "8\n",
      "13\n",
      "21\n",
      "34\n"
     ]
    }
   ],
   "source": [
    "\"\"\"\n",
    "Python basics like top OOP principles\n",
    "generators\n",
    "lambda\n",
    "list comprehentions\n",
    "decorators\n",
    "context managers\n",
    "multi threading & multi processing\n",
    "asynchronous programming\n",
    "\"\"\"\n",
    "# from filename.py import function_name or class name\n",
    "# File handling\n",
    "# with open(filename, 'r') as file, file.read()\n",
    "\n",
    "# generator with fibonacci\n",
    "def fibonacci():\n",
    "    a, b = 0, 1\n",
    "    while True:\n",
    "        yield a\n",
    "        a, b = b, a + b\n",
    "\n",
    "fib = fibonacci()\n",
    "for _ in range(10):\n",
    "    print(next(fib))\n",
    "\n",
    "\n",
    "\n"
   ]
  },
  {
   "cell_type": "code",
   "execution_count": 46,
   "metadata": {},
   "outputs": [
    {
     "name": "stdout",
     "output_type": "stream",
     "text": [
      "[Thread-1] Number: 0[Thread-2] Number: 4\n",
      "\n",
      "[Thread-1] Number: 1\n",
      "[Thread-1] Number: 2\n"
     ]
    }
   ],
   "source": [
    "# Multiprocessing and Multithreading\n",
    "\n",
    "import threading\n",
    "import time\n",
    "\n",
    "def print_numbers(start, end):\n",
    "    for i in range(start, end):\n",
    "        print(f\"[{threading.current_thread().name}] Number: {i}\")\n",
    "        time.sleep(1)\n",
    "\n",
    "thread1 = threading.Thread(target=print_numbers, args = (0,3), name=\"Thread-1\")\n",
    "thread2 = threading.Thread(target=print_numbers, args = (4,5), name=\"Thread-2\")\n",
    "\n",
    "thread1.start()\n",
    "thread2.start()\n",
    "\n",
    "thread1.join()\n",
    "thread2.join()"
   ]
  },
  {
   "cell_type": "code",
   "execution_count": 47,
   "metadata": {},
   "outputs": [
    {
     "name": "stderr",
     "output_type": "stream",
     "text": [
      "Traceback (most recent call last):\n",
      "  File \"<string>\", line 1, in <module>\n",
      "Traceback (most recent call last):\n",
      "  File \"<string>\", line 1, in <module>\n",
      "Traceback (most recent call last):\n",
      "  File \"<string>\", line 1, in <module>\n",
      "Traceback (most recent call last):\n",
      "  File \"<string>\", line 1, in <module>\n",
      "  File \"/Library/Developer/CommandLineTools/Library/Frameworks/Python3.framework/Versions/3.9/lib/python3.9/multiprocessing/spawn.py\", line 116, in spawn_main\n",
      "  File \"/Library/Developer/CommandLineTools/Library/Frameworks/Python3.framework/Versions/3.9/lib/python3.9/multiprocessing/spawn.py\", line 116, in spawn_main\n",
      "  File \"/Library/Developer/CommandLineTools/Library/Frameworks/Python3.framework/Versions/3.9/lib/python3.9/multiprocessing/spawn.py\", line 116, in spawn_main\n",
      "  File \"/Library/Developer/CommandLineTools/Library/Frameworks/Python3.framework/Versions/3.9/lib/python3.9/multiprocessing/spawn.py\", line 116, in spawn_main\n",
      "    exitcode = _main(fd, parent_sentinel)\n",
      "  File \"/Library/Developer/CommandLineTools/Library/Frameworks/Python3.framework/Versions/3.9/lib/python3.9/multiprocessing/spawn.py\", line 126, in _main\n",
      "    exitcode = _main(fd, parent_sentinel)\n",
      "  File \"/Library/Developer/CommandLineTools/Library/Frameworks/Python3.framework/Versions/3.9/lib/python3.9/multiprocessing/spawn.py\", line 126, in _main\n",
      "        exitcode = _main(fd, parent_sentinel)exitcode = _main(fd, parent_sentinel)\n",
      "\n",
      "  File \"/Library/Developer/CommandLineTools/Library/Frameworks/Python3.framework/Versions/3.9/lib/python3.9/multiprocessing/spawn.py\", line 126, in _main\n",
      "  File \"/Library/Developer/CommandLineTools/Library/Frameworks/Python3.framework/Versions/3.9/lib/python3.9/multiprocessing/spawn.py\", line 126, in _main\n",
      "    self = reduction.pickle.load(from_parent)\n",
      "AttributeError: Can't get attribute 'compute_square' on <module '__main__' (built-in)>\n",
      "    self = reduction.pickle.load(from_parent)    \n",
      "self = reduction.pickle.load(from_parent)\n",
      "    AttributeErrorself = reduction.pickle.load(from_parent): \n",
      "AttributeErrorCan't get attribute 'compute_square' on <module '__main__' (built-in)>: AttributeErrorCan't get attribute 'compute_square' on <module '__main__' (built-in)>\n",
      "\n",
      ": Can't get attribute 'compute_square' on <module '__main__' (built-in)>\n"
     ]
    }
   ],
   "source": [
    "import multiprocessing\n",
    "import time\n",
    "\n",
    "def compute_square(n):\n",
    "    print(f\"[{multiprocessing.current_process().name}] Computing square of {n}\")\n",
    "    time.sleep(1)\n",
    "    print(f\"Result: {n*n}\")\n",
    "\n",
    "if __name__ == '__main__':\n",
    "    numbers = [1, 2, 3, 4]\n",
    "    processes = []\n",
    "    \n",
    "    for num in numbers:\n",
    "        p = multiprocessing.Process(target=compute_square, args=(num,))\n",
    "        processes.append(p)\n",
    "        p.start()\n",
    "    \n",
    "    for p in processes:\n",
    "        p.join()\n",
    "\n"
   ]
  },
  {
   "cell_type": "code",
   "execution_count": null,
   "metadata": {},
   "outputs": [],
   "source": []
  }
 ],
 "metadata": {
  "kernelspec": {
   "display_name": "Python 3",
   "language": "python",
   "name": "python3"
  },
  "language_info": {
   "codemirror_mode": {
    "name": "ipython",
    "version": 3
   },
   "file_extension": ".py",
   "mimetype": "text/x-python",
   "name": "python",
   "nbconvert_exporter": "python",
   "pygments_lexer": "ipython3",
   "version": "3.9.6"
  }
 },
 "nbformat": 4,
 "nbformat_minor": 2
}
