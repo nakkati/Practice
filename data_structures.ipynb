# array/list

test_list = [1,"a",3]
